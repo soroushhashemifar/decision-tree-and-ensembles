{
  "nbformat": 4,
  "nbformat_minor": 0,
  "metadata": {
    "colab": {
      "name": "Decision tree, Ensemble and Stacking.ipynb",
      "provenance": [],
      "collapsed_sections": [],
      "mount_file_id": "1_6XmEBmGqTe3b85Rfh2wTG8vf-ezCzGa",
      "authorship_tag": "ABX9TyPOmaBFcfKl8qmuaC4Jva++"
    },
    "kernelspec": {
      "name": "python3",
      "display_name": "Python 3"
    }
  },
  "cells": [
    {
      "cell_type": "code",
      "metadata": {
        "id": "cjaPkP9pe9Hm"
      },
      "source": [
        "import zipfile\n",
        "import time\n",
        "import multiprocessing\n",
        "\n",
        "import pandas as pd\n",
        "import numpy as np\n",
        "import matplotlib.pyplot as plt\n",
        "\n",
        "from sklearn.model_selection import train_test_split\n",
        "from sklearn.preprocessing import LabelEncoder, MinMaxScaler\n",
        "from sklearn.tree import DecisionTreeClassifier, plot_tree\n",
        "from sklearn.model_selection import cross_val_score, GridSearchCV\n",
        "from sklearn.metrics import plot_roc_curve\n",
        "from sklearn.pipeline import Pipeline, make_pipeline\n",
        "from sklearn.ensemble import RandomForestClassifier, ExtraTreesClassifier, AdaBoostClassifier, GradientBoostingClassifier, VotingClassifier, BaggingClassifier, IsolationForest, StackingClassifier\n",
        "from sklearn.linear_model import LogisticRegression\n",
        "from sklearn.svm import SVC"
      ],
      "execution_count": null,
      "outputs": []
    },
    {
      "cell_type": "markdown",
      "metadata": {
        "id": "WbGMuN3NkvAl"
      },
      "source": [
        "# Preparing dataset"
      ]
    },
    {
      "cell_type": "markdown",
      "metadata": {
        "id": "z0SNl13gxYOS"
      },
      "source": [
        "Data Set Information:\n",
        "\n",
        "Three data sets are submitted, for training and testing. Ground-truth occupancy was obtained from time stamped pictures that were taken every minute.\n",
        "\n",
        "Attribute Information:\n",
        "\n",
        "- date time year-month-day hour:minute:second\n",
        "- Temperature, in Celsius\n",
        "- Relative Humidity, %\n",
        "- Light, in Lux\n",
        "- CO2, in ppm\n",
        "- Humidity Ratio, Derived quantity from temperature and relative humidity, in kgwater-vapor/kg-air\n",
        "- Occupancy, 0 or 1, 0 for not occupied, 1 for occupied status\n",
        "\n",
        "Dataset available at: https://archive.ics.uci.edu/ml/datasets/Occupancy+Detection+"
      ]
    },
    {
      "cell_type": "code",
      "metadata": {
        "id": "2K7fks0se6P0"
      },
      "source": [
        "!wget \"https://archive.ics.uci.edu/ml/machine-learning-databases/00357/occupancy_data.zip\" -O \"/content/drive/MyDrive/Colab Notebooks/occupancy_data.zip\""
      ],
      "execution_count": null,
      "outputs": []
    },
    {
      "cell_type": "code",
      "metadata": {
        "id": "qnuBNVm_gXTK"
      },
      "source": [
        "zf = zipfile.ZipFile('/content/drive/MyDrive/Colab Notebooks/occupancy_data.zip')\n",
        "zf.filelist"
      ],
      "execution_count": null,
      "outputs": []
    },
    {
      "cell_type": "code",
      "metadata": {
        "id": "HKjvWjZ5gPax"
      },
      "source": [
        "dataset = pd.concat([\n",
        "                     pd.read_csv(zf.open('datatest.txt')), \n",
        "                     pd.read_csv(zf.open('datatest2.txt')), \n",
        "                     pd.read_csv(zf.open('datatraining.txt')),\n",
        "                     ]).reset_index(drop=True)\n",
        "dataset"
      ],
      "execution_count": null,
      "outputs": []
    },
    {
      "cell_type": "code",
      "metadata": {
        "id": "orajmLZP5DW0"
      },
      "source": [
        "dataset = dataset.sample(frac=1).reset_index(drop=True) # Shuffle the dataset"
      ],
      "execution_count": null,
      "outputs": []
    },
    {
      "cell_type": "code",
      "metadata": {
        "id": "tLTLPjNwh7ZZ"
      },
      "source": [
        "dataset.drop(\"date\", axis=1, inplace=True)\n",
        "dataset"
      ],
      "execution_count": null,
      "outputs": []
    },
    {
      "cell_type": "code",
      "metadata": {
        "id": "jFjO7BLui3tI"
      },
      "source": [
        "dataset.info()"
      ],
      "execution_count": null,
      "outputs": []
    },
    {
      "cell_type": "code",
      "metadata": {
        "id": "Q7MsjLqji7pP"
      },
      "source": [
        "dataset[\"Occupancy\"].value_counts()"
      ],
      "execution_count": null,
      "outputs": []
    },
    {
      "cell_type": "code",
      "metadata": {
        "id": "cnF5QgX6iREL"
      },
      "source": [
        "x, y = dataset.drop(\"Occupancy\", axis=1).to_numpy(), dataset[\"Occupancy\"].to_numpy()\n",
        "x.shape, y.shape"
      ],
      "execution_count": null,
      "outputs": []
    },
    {
      "cell_type": "code",
      "metadata": {
        "id": "dF37rR8piZ9o"
      },
      "source": [
        "# x_scaled = MinMaxScaler().fit_transform(x)\n",
        "# x_scaled"
      ],
      "execution_count": null,
      "outputs": []
    },
    {
      "cell_type": "code",
      "metadata": {
        "id": "Eu_Q8Ut-iSdp"
      },
      "source": [
        "print(np.sum(np.isnan(x)))\n",
        "print(np.sum(pd.isna(x)))\n",
        "print(np.sum(pd.isnull(x)))"
      ],
      "execution_count": null,
      "outputs": []
    },
    {
      "cell_type": "code",
      "metadata": {
        "id": "X2TWmW5opa-b"
      },
      "source": [
        "X_train, X_test, y_train, y_test = train_test_split(x, y, test_size=0.2, random_state=4, stratify=y)\n",
        "X_train.shape, X_test.shape, y_train.shape, y_test.shape"
      ],
      "execution_count": null,
      "outputs": []
    },
    {
      "cell_type": "markdown",
      "metadata": {
        "id": "F70rN8YYkt0t"
      },
      "source": [
        "# Decision Tree"
      ]
    },
    {
      "cell_type": "markdown",
      "metadata": {
        "id": "SS7EtEycUnzR"
      },
      "source": [
        "Sample run of decision tree:"
      ]
    },
    {
      "cell_type": "code",
      "metadata": {
        "id": "Xkmcnnjijh34"
      },
      "source": [
        "dec_tree = DecisionTreeClassifier(criterion=\"gini\", min_samples_split=20, max_features=None)\n",
        "cv_result = cross_val_score(dec_tree, X_train, y_train, scoring=\"accuracy\", cv=5)\n",
        "\n",
        "print(cv_result)\n",
        "print(np.mean(cv_result))"
      ],
      "execution_count": null,
      "outputs": []
    },
    {
      "cell_type": "markdown",
      "metadata": {
        "id": "TyTGV7N_UrHK"
      },
      "source": [
        "Let's find optimum hyperparameters of decision tree:"
      ]
    },
    {
      "cell_type": "code",
      "metadata": {
        "id": "N7ergISLu6Ze"
      },
      "source": [
        "temp_start_time = time.time()\n",
        "\n",
        "gs_dt = GridSearchCV(estimator=DecisionTreeClassifier(),\n",
        "                  param_grid={\n",
        "                      \"criterion\": [\"gini\", \"entropy\"], \n",
        "                      \"splitter\": [\"best\", \"random\"], \n",
        "                      \"max_features\": np.linspace(0.1, 1., 10), \n",
        "                      \"min_samples_split\": [2**i for i in range(8)], \n",
        "                      \"max_depth\": [2**i for i in range(4)], \n",
        "                      # \"min_impurity_split\": np.linspace(0.1, 1., 10), \n",
        "                      # \"min_samples_leaf\": [2**i for i in range(4)],\n",
        "                      # \"max_leaf_nodes\": [2**i for i in range(6)],\n",
        "                  }, scoring=\"accuracy\", cv=5, n_jobs=-1, verbose=1)\n",
        "\n",
        "gs_dt.fit(X_train, y_train)\n",
        "\n",
        "duration_dt = time.time() - temp_start_time"
      ],
      "execution_count": null,
      "outputs": []
    },
    {
      "cell_type": "code",
      "metadata": {
        "id": "J8JruCxhv0L9"
      },
      "source": [
        "gs_dt.best_estimator_"
      ],
      "execution_count": null,
      "outputs": []
    },
    {
      "cell_type": "code",
      "metadata": {
        "id": "mON0qEYDv2-l"
      },
      "source": [
        "# Mean cross-validated score of the best_estimator\n",
        "gs_dt.best_score_"
      ],
      "execution_count": null,
      "outputs": []
    },
    {
      "cell_type": "code",
      "metadata": {
        "id": "krqY302hv790"
      },
      "source": [
        "gs_dt.best_estimator_.score(X_test, y_test)"
      ],
      "execution_count": null,
      "outputs": []
    },
    {
      "cell_type": "code",
      "metadata": {
        "id": "nf3O4EhaVFkL"
      },
      "source": [
        "pd.DataFrame.from_dict(gs_dt.cv_results_)"
      ],
      "execution_count": null,
      "outputs": []
    },
    {
      "cell_type": "code",
      "metadata": {
        "id": "0Q27hX3ulgw2"
      },
      "source": [
        "# fig, ax = plt.subplots(figsize=(50, 50))\n",
        "# plot_tree(gs_dt.best_estimator_, feature_names=dataset.columns[:-1], class_names=[\"pos\", \"neg\"], impurity=True, ax=ax)"
      ],
      "execution_count": null,
      "outputs": []
    },
    {
      "cell_type": "code",
      "metadata": {
        "id": "bfrLFs7rn8JJ"
      },
      "source": [
        "print(\"Feature importances:\\n\")\n",
        "\n",
        "for feature, importance in reversed(sorted(zip(dataset.columns[:-1], gs_dt.best_estimator_.feature_importances_), key=lambda k: k[1])):\n",
        "  print(feature, \"=\", importance)"
      ],
      "execution_count": null,
      "outputs": []
    },
    {
      "cell_type": "code",
      "metadata": {
        "id": "WdRDCBexqPKA"
      },
      "source": [
        "gs_dt.best_estimator_.predict_proba([X_test[0]])"
      ],
      "execution_count": null,
      "outputs": []
    },
    {
      "cell_type": "code",
      "metadata": {
        "id": "6DCG4WxSVcN_"
      },
      "source": [
        "fig, ax = plt.subplots(figsize=(5, 5))\n",
        "\n",
        "plot_roc_curve(gs_dt.best_estimator_, X_test, y_test, ax=ax)\n",
        "\n",
        "ax.plot([0, 1], [0, 1], \"r--\")\n",
        "\n",
        "plt.show()"
      ],
      "execution_count": null,
      "outputs": []
    },
    {
      "cell_type": "markdown",
      "metadata": {
        "id": "Oif_OlYOAiDZ"
      },
      "source": [
        "## Pruning the tree"
      ]
    },
    {
      "cell_type": "markdown",
      "metadata": {
        "id": "bjJfpHiritm0"
      },
      "source": [
        "Cost complexity pruning provides another option to control the size of a tree. Greater values of ccp_alpha increase the number of nodes pruned. \n",
        "\n",
        "Minimal cost complexity pruning recursively finds the node with the “weakest link”. The weakest link is characterized by an effective alpha, where the nodes with the smallest effective alpha are pruned first."
      ]
    },
    {
      "cell_type": "code",
      "metadata": {
        "id": "-Q4voh9Bhqvr"
      },
      "source": [
        "path = dec_tree.cost_complexity_pruning_path(X_train, y_train)\n",
        "ccp_alphas, impurities = path.ccp_alphas, path.impurities"
      ],
      "execution_count": null,
      "outputs": []
    },
    {
      "cell_type": "code",
      "metadata": {
        "id": "pAR3Uw0oht1z"
      },
      "source": [
        "fig, ax = plt.subplots()\n",
        "\n",
        "ax.plot(ccp_alphas[:-1], impurities[:-1], marker='o', drawstyle=\"steps-post\")\n",
        "\n",
        "ax.set_xlabel(\"effective alpha\")\n",
        "ax.set_ylabel(\"total impurity of leaves\")\n",
        "ax.set_title(\"Total Impurity vs effective alpha for training set\")\n",
        "\n",
        "plt.show()"
      ],
      "execution_count": null,
      "outputs": []
    },
    {
      "cell_type": "code",
      "metadata": {
        "id": "fgiE7GMAjI68"
      },
      "source": [
        "clfs = []\n",
        "for ccp_alpha in ccp_alphas:\n",
        "    clf = DecisionTreeClassifier(random_state=0, ccp_alpha=ccp_alpha)\n",
        "    clf.fit(X_train, y_train)\n",
        "    clfs.append(clf)\n",
        "\n",
        "print(\"Number of nodes in the last tree is: {} with ccp_alpha: {}\".format(clfs[-1].tree_.node_count, ccp_alphas[-1]))"
      ],
      "execution_count": null,
      "outputs": []
    },
    {
      "cell_type": "code",
      "metadata": {
        "id": "GbhjRlZfjOxr"
      },
      "source": [
        "clfs = clfs[:-1]\n",
        "ccp_alphas = ccp_alphas[:-1]\n",
        "\n",
        "node_counts = [clf.tree_.node_count for clf in clfs]\n",
        "depth = [clf.tree_.max_depth for clf in clfs]\n",
        "\n",
        "fig, ax = plt.subplots(2, 1)\n",
        "\n",
        "ax[0].plot(ccp_alphas, node_counts, marker='o', drawstyle=\"steps-post\")\n",
        "ax[0].set_xlabel(\"alpha\")\n",
        "ax[0].set_ylabel(\"number of nodes\")\n",
        "ax[0].set_title(\"Number of nodes vs alpha\")\n",
        "\n",
        "ax[1].plot(ccp_alphas, depth, marker='o', drawstyle=\"steps-post\")\n",
        "ax[1].set_xlabel(\"alpha\")\n",
        "ax[1].set_ylabel(\"depth of tree\")\n",
        "ax[1].set_title(\"Depth vs alpha\")\n",
        "\n",
        "fig.tight_layout()\n",
        "\n",
        "plt.show()"
      ],
      "execution_count": null,
      "outputs": []
    },
    {
      "cell_type": "code",
      "metadata": {
        "id": "kFODpc8Pj66r"
      },
      "source": [
        "train_scores = [clf.score(X_train, y_train) for clf in clfs]\n",
        "test_scores = [clf.score(X_test, y_test) for clf in clfs]\n",
        "\n",
        "fig, ax = plt.subplots()\n",
        "\n",
        "ax.plot(ccp_alphas, train_scores, marker='o', label=\"train\",\n",
        "        drawstyle=\"steps-post\")\n",
        "ax.plot(ccp_alphas, test_scores, marker='o', label=\"test\",\n",
        "        drawstyle=\"steps-post\")\n",
        "\n",
        "ax.set_xlabel(\"alpha\")\n",
        "ax.set_ylabel(\"accuracy\")\n",
        "ax.set_title(\"Accuracy vs alpha for training and testing sets\")\n",
        "\n",
        "ax.legend()\n",
        "plt.show()"
      ],
      "execution_count": null,
      "outputs": []
    },
    {
      "cell_type": "markdown",
      "metadata": {
        "id": "F4C0XQK5xRBC"
      },
      "source": [
        "# Bagging"
      ]
    },
    {
      "cell_type": "markdown",
      "metadata": {
        "id": "ihaIh8b1Rxyg"
      },
      "source": [
        "## Random Forest & Extra Trees"
      ]
    },
    {
      "cell_type": "markdown",
      "metadata": {
        "id": "BVyVIovFbDlq"
      },
      "source": [
        "An ensemble of trees, where at each node only a random subset of the features is considered for splitting and search among elements of the subset to find the best threshold for each feature."
      ]
    },
    {
      "cell_type": "code",
      "metadata": {
        "id": "tgcSr2UTR0fW"
      },
      "source": [
        "rf_accs = []\n",
        "for n_estimators in range(1, 51):\n",
        "  score = cross_val_score(RandomForestClassifier(n_estimators=n_estimators), X_train, y_train, scoring=\"accuracy\", cv=5).mean()\n",
        "  rf_accs.append(score)"
      ],
      "execution_count": null,
      "outputs": []
    },
    {
      "cell_type": "markdown",
      "metadata": {
        "id": "KdPuD9j8agN9"
      },
      "source": [
        "Extra Trees consider a random threshold for each feature rather than searching for the best possible thresholds. So it's faster than random forest because searching for the best threshold is too time-consuming!"
      ]
    },
    {
      "cell_type": "code",
      "metadata": {
        "id": "zsEILjzHbPit"
      },
      "source": [
        "et_accs = []\n",
        "for n_estimators in range(1, 51):\n",
        "  score = cross_val_score(ExtraTreesClassifier(n_estimators=n_estimators), X_train, y_train, scoring=\"accuracy\", cv=5).mean()\n",
        "  et_accs.append(score)"
      ],
      "execution_count": null,
      "outputs": []
    },
    {
      "cell_type": "code",
      "metadata": {
        "id": "FkGdNGPnXQGg"
      },
      "source": [
        "plt.plot(range(1, len(rf_accs)+1), rf_accs, label=\"RandomForest\")\n",
        "plt.plot(range(1, len(et_accs)+1), et_accs, label=\"ExtraTrees\")\n",
        "\n",
        "plt.xlabel(\"n_estimators\")\n",
        "plt.ylabel(\"accuracy\")\n",
        "\n",
        "plt.legend()\n",
        "plt.show()"
      ],
      "execution_count": null,
      "outputs": []
    },
    {
      "cell_type": "code",
      "metadata": {
        "id": "UjErIa3bftM3"
      },
      "source": [
        "temp_start_time = time.time()\n",
        "\n",
        "gs_rf = GridSearchCV(estimator=RandomForestClassifier(n_jobs=-1, oob_score=True),\n",
        "                  param_grid={\n",
        "                      \"n_estimators\": [2, 5, 10, 20, 40], \n",
        "                      \"criterion\": [\"gini\", \"entropy\"], \n",
        "                      \"max_features\": np.linspace(0.1, 1., 10), \n",
        "                      \"min_samples_split\": [2**i for i in range(1, 8)], \n",
        "                      \"max_depth\": [2**i for i in range(4)], \n",
        "                      # \"min_impurity_split\": np.linspace(0.1, 1., 10), \n",
        "                      # \"min_samples_leaf\": [2**i for i in range(4)], \n",
        "                      # \"max_leaf_nodes\": [2**i for i in range(2, 6)], \n",
        "                  }, scoring=\"accuracy\", cv=5, n_jobs=-1, verbose=1)\n",
        "\n",
        "gs_rf.fit(X_train, y_train)\n",
        "\n",
        "duration_rf = time.time() - temp_start_time"
      ],
      "execution_count": null,
      "outputs": []
    },
    {
      "cell_type": "code",
      "metadata": {
        "id": "C45QUMjIgI2-"
      },
      "source": [
        "gs_rf.best_estimator_"
      ],
      "execution_count": null,
      "outputs": []
    },
    {
      "cell_type": "code",
      "metadata": {
        "id": "aLefA_OogI9T"
      },
      "source": [
        "gs_rf.best_score_"
      ],
      "execution_count": null,
      "outputs": []
    },
    {
      "cell_type": "code",
      "metadata": {
        "id": "AI2kKjiZ2ssq"
      },
      "source": [
        "gs_rf.best_estimator_.oob_score_"
      ],
      "execution_count": null,
      "outputs": []
    },
    {
      "cell_type": "code",
      "metadata": {
        "id": "zUkC_XZhVwqE"
      },
      "source": [
        "pd.DataFrame.from_dict(gs_rf.cv_results_)"
      ],
      "execution_count": null,
      "outputs": []
    },
    {
      "cell_type": "code",
      "metadata": {
        "id": "5YzWUI24XnID"
      },
      "source": [
        "print(\"Feature importances:\\n\")\n",
        "\n",
        "for feature, importance in reversed(sorted(zip(dataset.columns[:-1], gs_rf.best_estimator_.feature_importances_), key=lambda k: k[1])):\n",
        "  print(feature, \"=\", importance)"
      ],
      "execution_count": null,
      "outputs": []
    },
    {
      "cell_type": "code",
      "metadata": {
        "id": "O8ed6XjbJuWC"
      },
      "source": [
        "fig, ax = plt.subplots(figsize=(5, 5))\n",
        "\n",
        "plot_roc_curve(gs_rf.best_estimator_, X_test, y_test, ax=ax)\n",
        "\n",
        "ax.plot([0, 1], [0, 1], \"r--\")\n",
        "\n",
        "plt.show()"
      ],
      "execution_count": null,
      "outputs": []
    },
    {
      "cell_type": "code",
      "metadata": {
        "id": "4nc8grJkc9mD"
      },
      "source": [
        "temp_start_time = time.time()\n",
        "\n",
        "gs_et = GridSearchCV(estimator=ExtraTreesClassifier(n_jobs=-1, bootstrap=True, oob_score=True),\n",
        "                  param_grid={\n",
        "                      \"n_estimators\": [2, 5, 10, 20, 40], \n",
        "                      \"criterion\": [\"gini\", \"entropy\"], \n",
        "                      \"max_features\": np.linspace(0.1, 1., 10), \n",
        "                      \"min_samples_split\": [2**i for i in range(8)], \n",
        "                      \"max_depth\": [2**i for i in range(4)], \n",
        "                      # \"min_impurity_split\": np.linspace(0.1, 1., 10), \n",
        "                      # \"min_samples_leaf\": [2**i for i in range(4)], \n",
        "                      # \"max_leaf_nodes\": [2**i for i in range(6)], \n",
        "                  }, scoring=\"accuracy\", cv=5, n_jobs=-1, verbose=1)\n",
        "\n",
        "gs_et.fit(X_train, y_train)\n",
        "\n",
        "duration_et = time.time() - temp_start_time"
      ],
      "execution_count": null,
      "outputs": []
    },
    {
      "cell_type": "code",
      "metadata": {
        "id": "nq_k0iuydOeT"
      },
      "source": [
        "gs_et.best_estimator_"
      ],
      "execution_count": null,
      "outputs": []
    },
    {
      "cell_type": "code",
      "metadata": {
        "id": "RU5T0MTedOb_"
      },
      "source": [
        "gs_et.best_score_"
      ],
      "execution_count": null,
      "outputs": []
    },
    {
      "cell_type": "code",
      "metadata": {
        "id": "9Iwn4cjXdOZ3"
      },
      "source": [
        "gs_et.best_estimator_.oob_score_"
      ],
      "execution_count": null,
      "outputs": []
    },
    {
      "cell_type": "code",
      "metadata": {
        "id": "0qSEEKj_dOXz"
      },
      "source": [
        "pd.DataFrame.from_dict(gs_et.cv_results_)"
      ],
      "execution_count": null,
      "outputs": []
    },
    {
      "cell_type": "code",
      "metadata": {
        "id": "R4sQv3cvdZBE"
      },
      "source": [
        "print(\"Feature importances:\\n\")\n",
        "\n",
        "for feature, importance in reversed(sorted(zip(dataset.columns[:-1], gs_et.best_estimator_.feature_importances_), key=lambda k: k[1])):\n",
        "  print(feature, \"=\", importance)"
      ],
      "execution_count": null,
      "outputs": []
    },
    {
      "cell_type": "code",
      "metadata": {
        "id": "aAnd9pxgdY_e"
      },
      "source": [
        "fig, ax = plt.subplots(figsize=(5, 5))\n",
        "\n",
        "plot_roc_curve(gs_et.best_estimator_, X_test, y_test, ax=ax)\n",
        "\n",
        "ax.plot([0, 1], [0, 1], \"r--\")\n",
        "\n",
        "plt.show()"
      ],
      "execution_count": null,
      "outputs": []
    },
    {
      "cell_type": "markdown",
      "metadata": {
        "id": "S0c2y-P27hM1"
      },
      "source": [
        "## Voting Classifier"
      ]
    },
    {
      "cell_type": "code",
      "metadata": {
        "id": "nDQ6WuzD7gf-"
      },
      "source": [
        "lr = LogisticRegression()\n",
        "svc_pipe = Pipeline([('scale', MinMaxScaler()), \n",
        "                     ('svc', SVC(kernel=\"poly\", probability=True))])\n",
        "dt = DecisionTreeClassifier()\n",
        "\n",
        "classifiers = [\n",
        "               (\"lr\", lr),\n",
        "               (\"dt\", dt),\n",
        "               (\"svc\", svc_pipe),\n",
        "]\n",
        "\n",
        "# vc_clf = VotingClassifier(estimators=classifiers, voting=\"hard\", n_jobs=-1)\n",
        "vc_clf = VotingClassifier(estimators=classifiers, voting=\"soft\", weights=[1.5, .5, .75], n_jobs=-1)"
      ],
      "execution_count": null,
      "outputs": []
    },
    {
      "cell_type": "code",
      "metadata": {
        "id": "BX9rZ2447gia"
      },
      "source": [
        "for classifier in classifiers:\n",
        "  print(classifier[0], cross_val_score(classifier[1], X_train, y_train, scoring=\"accuracy\", cv=5).mean())\n",
        "\n",
        "print(\"vc\", cross_val_score(vc_clf, X_train, y_train, scoring=\"accuracy\", cv=5).mean())"
      ],
      "execution_count": null,
      "outputs": []
    },
    {
      "cell_type": "code",
      "metadata": {
        "id": "45v5TfXXCPWC"
      },
      "source": [
        "temp_start_time = time.time()\n",
        "\n",
        "gs_vc = GridSearchCV(estimator=VotingClassifier(estimators=[\n",
        "                                                            (\"lr\", LogisticRegression()), \n",
        "                                                            (\"dt\", DecisionTreeClassifier()), \n",
        "                                                            (\"svc\", make_pipeline(MinMaxScaler(), \n",
        "                                                                                  SVC(kernel=\"poly\", probability=True))),\n",
        "                                                            ], n_jobs=-1),\n",
        "                  param_grid={\n",
        "                      \"voting\": [\"hard\", \"soft\"], \n",
        "                      \"weights\": [[1., 1., 1.], [.5, .5, .5], [1.5, .5, .75], [5.5, .5, 1.5]],\n",
        "                  }, scoring=\"accuracy\", cv=5, n_jobs=-1, verbose=1)\n",
        "\n",
        "gs_vc.fit(X_train, y_train)\n",
        "\n",
        "duration_vc = time.time() - temp_start_time"
      ],
      "execution_count": null,
      "outputs": []
    },
    {
      "cell_type": "code",
      "metadata": {
        "id": "_VrxVOymCam7"
      },
      "source": [
        "gs_vc.best_estimator_"
      ],
      "execution_count": null,
      "outputs": []
    },
    {
      "cell_type": "code",
      "metadata": {
        "id": "C87FF-lsCap2"
      },
      "source": [
        "gs_vc.best_score_"
      ],
      "execution_count": null,
      "outputs": []
    },
    {
      "cell_type": "code",
      "metadata": {
        "id": "TE4SYHIKYGFr"
      },
      "source": [
        "pd.DataFrame.from_dict(gs_vc.cv_results_)"
      ],
      "execution_count": null,
      "outputs": []
    },
    {
      "cell_type": "code",
      "metadata": {
        "id": "bNlA9eL9Kcwx"
      },
      "source": [
        "fig, ax = plt.subplots(figsize=(5, 5))\n",
        "\n",
        "plot_roc_curve(gs_vc.best_estimator_, X_test, y_test, ax=ax)\n",
        "\n",
        "ax.plot([0, 1], [0, 1], \"r--\")\n",
        "\n",
        "plt.show()"
      ],
      "execution_count": null,
      "outputs": []
    },
    {
      "cell_type": "markdown",
      "metadata": {
        "id": "NrcGNjt0-xHo"
      },
      "source": [
        "## Bagging Classifier"
      ]
    },
    {
      "cell_type": "markdown",
      "metadata": {
        "id": "6XROy-cN6qlZ"
      },
      "source": [
        "BaggingClassifier with Decision tree as base estimator:"
      ]
    },
    {
      "cell_type": "code",
      "metadata": {
        "id": "UMwnWF57--ve"
      },
      "source": [
        "bag_clf = BaggingClassifier(base_estimator=DecisionTreeClassifier(), \n",
        "                            n_estimators=100, \n",
        "                            max_samples=100, \n",
        "                            bootstrap=True, \n",
        "                            n_jobs=-1)\n",
        "cv_result = cross_val_score(bag_clf, X_train, y_train, scoring=\"accuracy\", cv=5)\n",
        "\n",
        "print(cv_result)\n",
        "print(np.mean(cv_result))"
      ],
      "execution_count": null,
      "outputs": []
    },
    {
      "cell_type": "markdown",
      "metadata": {
        "id": "EZvBaYry6yLa"
      },
      "source": [
        "BaggingClassifier with SVM as base estimator:"
      ]
    },
    {
      "cell_type": "code",
      "metadata": {
        "id": "BMqoTjQ4inWw"
      },
      "source": [
        "bag_clf = BaggingClassifier(base_estimator=SVC(), \n",
        "                            n_estimators=100, \n",
        "                            max_samples=100, \n",
        "                            bootstrap=True, \n",
        "                            n_jobs=-1)\n",
        "cv_result = cross_val_score(bag_clf, X_train, y_train, scoring=\"accuracy\", cv=5)\n",
        "\n",
        "print(cv_result)\n",
        "print(np.mean(cv_result))"
      ],
      "execution_count": null,
      "outputs": []
    },
    {
      "cell_type": "code",
      "metadata": {
        "id": "YOse9pBnh0_M"
      },
      "source": [
        "temp_start_time = time.time()\n",
        "\n",
        "gs_bag = GridSearchCV(estimator=BaggingClassifier(n_jobs=-1, bootstrap=True, oob_score=True),\n",
        "                  param_grid={\n",
        "                      \"base_estimator\": [DecisionTreeClassifier(), SVC(), LogisticRegression()], \n",
        "                      \"n_estimators\": [50, 100, 200, 500, 1000],\n",
        "                      \"max_features\": np.linspace(0.1, 1., 10), \n",
        "                      # \"max_samples\": [2**i for i in range(8)], \n",
        "                      \"bootstrap_features\": [True, False], \n",
        "                  }, scoring=\"accuracy\", cv=10, n_jobs=-1, verbose=1, pre_dispatch=1)\n",
        "\n",
        "gs_bag.fit(X_train, y_train)\n",
        "\n",
        "duration_bag = time.time() - temp_start_time"
      ],
      "execution_count": null,
      "outputs": []
    },
    {
      "cell_type": "code",
      "metadata": {
        "id": "5xu4lEuyh1CY"
      },
      "source": [
        "gs_bag.best_estimator_"
      ],
      "execution_count": null,
      "outputs": []
    },
    {
      "cell_type": "code",
      "metadata": {
        "id": "zi3EYY1Lh1E2"
      },
      "source": [
        "gs_bag.best_score_"
      ],
      "execution_count": null,
      "outputs": []
    },
    {
      "cell_type": "code",
      "metadata": {
        "id": "W2XMqSO62xPZ"
      },
      "source": [
        "gs_bag.best_estimator_.oob_score_"
      ],
      "execution_count": null,
      "outputs": []
    },
    {
      "cell_type": "code",
      "metadata": {
        "id": "JjSH68sTYIei"
      },
      "source": [
        "pd.DataFrame.from_dict(gs_bag.cv_results_)"
      ],
      "execution_count": null,
      "outputs": []
    },
    {
      "cell_type": "code",
      "metadata": {
        "id": "Sw5b712Kwfnq"
      },
      "source": [
        "fig, ax = plt.subplots(figsize=(5, 5))\n",
        "\n",
        "plot_roc_curve(gs_bag.best_estimator_, X_test, y_test, ax=ax)\n",
        "\n",
        "ax.plot([0, 1], [0, 1], \"r--\")\n",
        "\n",
        "plt.show()"
      ],
      "execution_count": null,
      "outputs": []
    },
    {
      "cell_type": "markdown",
      "metadata": {
        "id": "svdWfIcsxYUB"
      },
      "source": [
        "# Boosting"
      ]
    },
    {
      "cell_type": "markdown",
      "metadata": {
        "id": "forCWtDLe2-G"
      },
      "source": [
        "## AdaBoost"
      ]
    },
    {
      "cell_type": "code",
      "metadata": {
        "id": "3AtTzz2bc9-A"
      },
      "source": [
        "ab_accs = []\n",
        "for n_estimators in range(1, 51):\n",
        "  score = cross_val_score(AdaBoostClassifier(n_estimators=n_estimators, learning_rate=0.1), \n",
        "                          X_train, y_train, \n",
        "                          scoring=\"accuracy\", cv=5).mean()\n",
        "  ab_accs.append(score)"
      ],
      "execution_count": null,
      "outputs": []
    },
    {
      "cell_type": "code",
      "metadata": {
        "id": "_GxuJrmkkcpE"
      },
      "source": [
        "plt.plot(range(1, len(ab_accs)+1), ab_accs)\n",
        "\n",
        "plt.xlabel(\"n_estimators\")\n",
        "plt.ylabel(\"accuracy\")\n",
        "\n",
        "plt.legend()\n",
        "plt.show()"
      ],
      "execution_count": null,
      "outputs": []
    },
    {
      "cell_type": "code",
      "metadata": {
        "id": "v39Jv5JBkj68"
      },
      "source": [
        "temp_start_time = time.time()\n",
        "\n",
        "gs_ab = GridSearchCV(estimator=AdaBoostClassifier(),\n",
        "                  param_grid={\n",
        "                      \"n_estimators\": [2, 5, 10, 20, 40],\n",
        "                      \"learning_rate\": np.linspace(0.1, 1., 10),\n",
        "                      \"algorithm\": [\"SAMME\", \"SAMME.R\"], \n",
        "                  }, scoring=\"accuracy\", cv=5, n_jobs=-1, verbose=1)\n",
        "\n",
        "gs_ab.fit(X_train, y_train)\n",
        "\n",
        "duration_ab = time.time() - temp_start_time"
      ],
      "execution_count": null,
      "outputs": []
    },
    {
      "cell_type": "code",
      "metadata": {
        "id": "9bcMsQRBolPe"
      },
      "source": [
        "gs_ab.best_estimator_"
      ],
      "execution_count": null,
      "outputs": []
    },
    {
      "cell_type": "code",
      "metadata": {
        "id": "ouQObHWgozsc"
      },
      "source": [
        "gs_ab.best_score_"
      ],
      "execution_count": null,
      "outputs": []
    },
    {
      "cell_type": "code",
      "metadata": {
        "id": "48w-3bAUYKY6"
      },
      "source": [
        "pd.DataFrame.from_dict(gs_ab.cv_results_)"
      ],
      "execution_count": null,
      "outputs": []
    },
    {
      "cell_type": "code",
      "metadata": {
        "id": "EWrl1yWcKJuB"
      },
      "source": [
        "fig, ax = plt.subplots(figsize=(5, 5))\n",
        "\n",
        "plot_roc_curve(gs_ab.best_estimator_, X_test, y_test, ax=ax)\n",
        "\n",
        "ax.plot([0, 1], [0, 1], \"r--\")\n",
        "\n",
        "plt.show()"
      ],
      "execution_count": null,
      "outputs": []
    },
    {
      "cell_type": "markdown",
      "metadata": {
        "id": "DAVhzKhs3aWS"
      },
      "source": [
        "## GradientBoosting"
      ]
    },
    {
      "cell_type": "code",
      "metadata": {
        "id": "z30NFOqco1kk"
      },
      "source": [
        "gb_accs = []\n",
        "for n_estimators in range(1, 51):\n",
        "  score = cross_val_score(GradientBoostingClassifier(n_estimators=n_estimators, learning_rate=10/n_estimators), \n",
        "                          X_train, y_train, \n",
        "                          scoring=\"accuracy\", cv=5).mean()\n",
        "  gb_accs.append(score)"
      ],
      "execution_count": null,
      "outputs": []
    },
    {
      "cell_type": "code",
      "metadata": {
        "id": "OtbwXWHUq9K7"
      },
      "source": [
        "plt.plot(range(1, len(gb_accs)+1), gb_accs)\n",
        "\n",
        "plt.xlabel(\"n_estimators\")\n",
        "plt.ylabel(\"accuracy\")\n",
        "\n",
        "plt.show()"
      ],
      "execution_count": null,
      "outputs": []
    },
    {
      "cell_type": "code",
      "metadata": {
        "id": "hPjM4iOIrCHp"
      },
      "source": [
        "temp_start_time = time.time()\n",
        "\n",
        "gs_gb = GridSearchCV(estimator=GradientBoostingClassifier(),\n",
        "                  param_grid={\n",
        "                      \"loss\": [\"deviance\", \"exponential\"], \n",
        "                      \"n_estimators\": [2, 5, 10, 20, 40],\n",
        "                      \"learning_rate\": np.linspace(0.1, 1., 10),\n",
        "                      \"subsample\": np.linspace(0.1, 1., 10),\n",
        "                      \"criterion\": [\"friedman_mse\", \"mse\", \"mae\"],\n",
        "                      \"max_features\": np.linspace(0.1, 1., 10), \n",
        "                      # \"min_samples_split\": [2**i for i in range(8)], \n",
        "                      \"max_depth\": [2**i for i in range(4)], \n",
        "                      # \"min_impurity_split\": np.linspace(0.1, 1., 10), \n",
        "                      # \"min_samples_leaf\": [2**i for i in range(4)],\n",
        "                  }, scoring=\"accuracy\", cv=5, n_jobs=-1, verbose=1)\n",
        "\n",
        "gs_gb.fit(X_train, y_train)\n",
        "\n",
        "duration_gb = time.time() - temp_start_time"
      ],
      "execution_count": null,
      "outputs": []
    },
    {
      "cell_type": "code",
      "metadata": {
        "id": "Y3vdLDgh4AFs"
      },
      "source": [
        "gs_gb.best_estimator_"
      ],
      "execution_count": null,
      "outputs": []
    },
    {
      "cell_type": "code",
      "metadata": {
        "id": "ySdatVf73__9"
      },
      "source": [
        "gs_gb.best_score_"
      ],
      "execution_count": null,
      "outputs": []
    },
    {
      "cell_type": "code",
      "metadata": {
        "id": "x764XtkLYMgO"
      },
      "source": [
        "pd.DataFrame.from_dict(gs_gb.cv_results_)"
      ],
      "execution_count": null,
      "outputs": []
    },
    {
      "cell_type": "code",
      "metadata": {
        "id": "cEAL8LgsKW2W"
      },
      "source": [
        "fig, ax = plt.subplots(figsize=(5, 5))\n",
        "\n",
        "plot_roc_curve(gs_gb.best_estimator_, X_test, y_test, ax=ax)\n",
        "\n",
        "ax.plot([0, 1], [0, 1], \"r--\")\n",
        "\n",
        "plt.show()"
      ],
      "execution_count": null,
      "outputs": []
    },
    {
      "cell_type": "markdown",
      "metadata": {
        "id": "Ktj8yf0f-yNY"
      },
      "source": [
        "# Isolation Forest"
      ]
    },
    {
      "cell_type": "code",
      "metadata": {
        "id": "vlkVGHR3-_bL"
      },
      "source": [
        ""
      ],
      "execution_count": null,
      "outputs": []
    },
    {
      "cell_type": "markdown",
      "metadata": {
        "id": "8LBKmWDj-6u_"
      },
      "source": [
        "# Stacking Classifier"
      ]
    },
    {
      "cell_type": "code",
      "metadata": {
        "id": "MKmsc0u67gyE"
      },
      "source": [
        ""
      ],
      "execution_count": null,
      "outputs": []
    },
    {
      "cell_type": "markdown",
      "metadata": {
        "id": "OEkB0ZsCVNFp"
      },
      "source": [
        "# XGBoost"
      ]
    },
    {
      "cell_type": "code",
      "metadata": {
        "id": "n-c2kbc4VQKm"
      },
      "source": [
        ""
      ],
      "execution_count": null,
      "outputs": []
    },
    {
      "cell_type": "markdown",
      "metadata": {
        "id": "TGpAQqw5q-bq"
      },
      "source": [
        "# Results"
      ]
    },
    {
      "cell_type": "code",
      "metadata": {
        "id": "OZkV9kgKq84Z"
      },
      "source": [
        "pd.DataFrame([\n",
        "              [\"Decision Tree\",       \"No\",   duration_dt,  gs_dt.best_score_,  \"-\"],\n",
        "              [\"Random Forest\",       \"Yes\",  duration_rf,  gs_rf.best_score_,  gs_rf.best_estimator_.oob_score_],\n",
        "              [\"Extra Trees\",         \"Yes\",  duration_et,  gs_et.best_score_,  gs_et.best_estimator_.oob_score_],\n",
        "              [\"Bagging Classifier\",  \"Yes\",  duration_bag, gs_bag.best_score_, gs_bag.best_estimator_.oob_score_],\n",
        "              [\"Voting classifier\",   \"Yes\",  duration_vc,  gs_vc.best_score_,  \"-\"],\n",
        "              [\"AdaBoost\",            \"No\",   duration_ab,  gs_ab.best_score_,  \"-\"],\n",
        "              [\"GradientBoosting\",    \"No\",   duration_gb,  gs_gb.best_score_,  \"-\"],\n",
        "              [\"Isolation Forest\",    \"-\",    \"-\",          \"-\",                \"-\"],\n",
        "              [\"Stacking Classifier\", \"-\",    \"-\",          \"-\",                \"-\"],\n",
        "              ], columns=[\"Method\", \"Bagging/Pasting?\", \"duration\", \"score\", \"oob score (bagging only)\"])"
      ],
      "execution_count": null,
      "outputs": []
    },
    {
      "cell_type": "code",
      "metadata": {
        "id": "EzQPJc9lsPAP"
      },
      "source": [
        "fig, ax = plt.subplots(figsize=(5, 5))\n",
        "\n",
        "plot_roc_curve(gs_dt.best_estimator_, X_test, y_test, ax=ax)\n",
        "plot_roc_curve(gs_rf.best_estimator_, X_test, y_test, ax=ax)\n",
        "plot_roc_curve(gs_et.best_estimator_, X_test, y_test, ax=ax)\n",
        "plot_roc_curve(gs_vc.best_estimator_, X_test, y_test, ax=ax)\n",
        "plot_roc_curve(gs_bag.best_estimator_, X_test, y_test, ax=ax)\n",
        "plot_roc_curve(gs_ab.best_estimator_, X_test, y_test, ax=ax)\n",
        "plot_roc_curve(gs_gb.best_estimator_, X_test, y_test, ax=ax)\n",
        "\n",
        "ax.plot([0, 1], [0, 1], \"r--\")\n",
        "\n",
        "plt.show()"
      ],
      "execution_count": null,
      "outputs": []
    },
    {
      "cell_type": "code",
      "metadata": {
        "id": "RkIWZkMS9ET4"
      },
      "source": [
        ""
      ],
      "execution_count": null,
      "outputs": []
    },
    {
      "cell_type": "code",
      "metadata": {
        "id": "pOBjr5Ll9EP-"
      },
      "source": [
        ""
      ],
      "execution_count": null,
      "outputs": []
    },
    {
      "cell_type": "code",
      "metadata": {
        "id": "WMFOxsHb9EJM"
      },
      "source": [
        ""
      ],
      "execution_count": null,
      "outputs": []
    }
  ]
}